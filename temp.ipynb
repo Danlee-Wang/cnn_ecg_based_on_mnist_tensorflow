{
 "cells": [
  {
   "cell_type": "code",
   "execution_count": 27,
   "metadata": {
    "collapsed": true
   },
   "outputs": [
    {
     "name": "stdout",
     "output_type": "stream",
     "text": [
      "(41264, 512)\n(11436, 512)\n(61364, 512)\n"
     ]
    },
    {
     "name": "stdout",
     "output_type": "stream",
     "text": [
      "(27447, 512) (3430, 512) (3431, 512)\n"
     ]
    }
   ],
   "source": [
    "import numpy as np\n",
    "import tensorflow as tf\n",
    "import matplotlib.pyplot as plt\n",
    "\n",
    "\n",
    "input_norm = True\n",
    "\n",
    "afib_data = np.load('afib_train.npy')\n",
    "aflu_data = np.load('afl_train.npy')\n",
    "norm_data = np.load('norm_train.npy')\n",
    "\n",
    "print(afib_data.shape)\n",
    "print(aflu_data.shape)\n",
    "print(norm_data.shape)\n",
    "\n",
    "# Min number of samples in the sets\n",
    "min_samples = np.min([afib_data.shape[0], aflu_data.shape[0], norm_data.shape[0]])\n",
    "# min_samples = 5\n",
    "# Prepare the train and test data\n",
    "afib_ind = np.random.choice(afib_data.shape[0], min_samples, replace=False)\n",
    "aflu_ind = np.random.choice(aflu_data.shape[0], min_samples, replace=False)\n",
    "norm_ind = np.random.choice(norm_data.shape[0], min_samples, replace=False)\n",
    "\n",
    "afib_data = np.concatenate((1*np.ones((min_samples, 1)), afib_data[afib_ind, :]), axis=1)\n",
    "aflu_data = np.concatenate((2*np.ones((min_samples, 1)), aflu_data[aflu_ind, :]), axis=1)\n",
    "norm_data = np.concatenate((3*np.ones((min_samples, 1)), norm_data[norm_ind, :]), axis=1)\n",
    "\n",
    "# 20% of the data for validation and testing\n",
    "afib_test_ind = np.random.choice(afib_data.shape[0], afib_data.shape[0]//5, replace=False)\n",
    "aflu_test_ind = np.random.choice(aflu_data.shape[0], aflu_data.shape[0]//5, replace=False)\n",
    "norm_test_ind = np.random.choice(norm_data.shape[0], norm_data.shape[0]//5, replace=False)\n",
    "\n",
    "afib_test = afib_data[afib_test_ind, :]\n",
    "aflu_test = aflu_data[aflu_test_ind, :]\n",
    "norm_test = norm_data[norm_test_ind, :]\n",
    "\n",
    "afib_train = np.delete(afib_data, afib_test_ind, axis=0)\n",
    "aflu_train = np.delete(aflu_data, aflu_test_ind, axis=0)\n",
    "norm_train = np.delete(norm_data, norm_test_ind, axis=0)\n",
    "\n",
    "X_train = np.concatenate((afib_train[:, 1:], aflu_train[:, 1:], norm_train[:, 1:]), axis=0)\n",
    "y_train = np.concatenate((afib_train[:, 0], aflu_train[:, 0], norm_train[:, 0]), axis=0)\n",
    "\n",
    "all_test = np.concatenate((afib_test, aflu_test, norm_test), axis=0)\n",
    "test, val = np.split(all_test, [all_test.shape[0]//2], axis=0)\n",
    "\n",
    "X_test = test[:, 1:]\n",
    "y_test = test[:, 0]\n",
    "X_val = val[:, 1:]\n",
    "y_val = val[:, 0]\n",
    "\n",
    "# The 1e-9 avoids dividing by zero\n",
    "if input_norm: \n",
    "    X_train -= np.mean(X_train, axis=0)\n",
    "    X_train /= np.std(X_train, axis=0) + 1e-9\n",
    "    X_test -= np.mean(X_test, axis=0)\n",
    "    X_test /= np.std(X_test, axis=0) + 1e-9\n",
    "    X_val -= np.mean(X_val, axis=0)\n",
    "    X_val /= np.std(X_val, axis=0) + 1e-9\n",
    "\n",
    "print(X_train.shape, X_test.shape, X_val.shape)\n",
    "# print(np.unique(np.random.choice(min_samples, min_samples, replace=False)).shape)\n",
    "# print(afib_data[[1,3,7], :])"
   ]
  },
  {
   "cell_type": "code",
   "execution_count": null,
   "metadata": {},
   "outputs": [],
   "source": [
    ""
   ]
  }
 ],
 "metadata": {
  "kernelspec": {
   "display_name": "Python 2",
   "language": "python",
   "name": "python2"
  },
  "language_info": {
   "codemirror_mode": {
    "name": "ipython",
    "version": 2.0
   },
   "file_extension": ".py",
   "mimetype": "text/x-python",
   "name": "python",
   "nbconvert_exporter": "python",
   "pygments_lexer": "ipython2",
   "version": "2.7.6"
  }
 },
 "nbformat": 4,
 "nbformat_minor": 0
}